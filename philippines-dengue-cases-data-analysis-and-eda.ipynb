{
 "cells": [
  {
   "cell_type": "code",
   "execution_count": 1,
   "id": "be8c810a",
   "metadata": {
    "_cell_guid": "b1076dfc-b9ad-4769-8c92-a6c4dae69d19",
    "_uuid": "8f2839f25d086af736a60e9eeb907d3b93b6e0e5",
    "execution": {
     "iopub.execute_input": "2022-09-12T11:26:31.848762Z",
     "iopub.status.busy": "2022-09-12T11:26:31.848134Z",
     "iopub.status.idle": "2022-09-12T11:26:31.878680Z",
     "shell.execute_reply": "2022-09-12T11:26:31.877383Z"
    },
    "papermill": {
     "duration": 0.04303,
     "end_time": "2022-09-12T11:26:31.881849",
     "exception": false,
     "start_time": "2022-09-12T11:26:31.838819",
     "status": "completed"
    },
    "tags": []
   },
   "outputs": [
    {
     "name": "stdout",
     "output_type": "stream",
     "text": [
      "/kaggle/input/dengue-cases-in-the-philippines/ph_dengue_cases2016-2020.csv\n"
     ]
    }
   ],
   "source": [
    "# This Python 3 environment comes with many helpful analytics libraries installed\n",
    "# It is defined by the kaggle/python Docker image: https://github.com/kaggle/docker-python\n",
    "# For example, here's several helpful packages to load\n",
    "\n",
    "import numpy as np # linear algebra\n",
    "import pandas as pd # data processing, CSV file I/O (e.g. pd.read_csv)\n",
    "\n",
    "# Input data files are available in the read-only \"../input/\" directory\n",
    "# For example, running this (by clicking run or pressing Shift+Enter) will list all files under the input directory\n",
    "\n",
    "import os\n",
    "for dirname, _, filenames in os.walk('/kaggle/input'):\n",
    "    for filename in filenames:\n",
    "        print(os.path.join(dirname, filename))\n",
    "\n",
    "# You can write up to 20GB to the current directory (/kaggle/working/) that gets preserved as output when you create a version using \"Save & Run All\" \n",
    "# You can also write temporary files to /kaggle/temp/, but they won't be saved outside of the current session"
   ]
  },
  {
   "cell_type": "markdown",
   "id": "9ed62c32",
   "metadata": {
    "papermill": {
     "duration": 0.004702,
     "end_time": "2022-09-12T11:26:31.891881",
     "exception": false,
     "start_time": "2022-09-12T11:26:31.887179",
     "status": "completed"
    },
    "tags": []
   },
   "source": [
    "# **Hi there!**\n",
    "**In this notebook, we will do some analysis and data understanding of the dengue disease in the Philippines.\n",
    "So, let's go!**"
   ]
  },
  {
   "cell_type": "markdown",
   "id": "dd77041f",
   "metadata": {
    "papermill": {
     "duration": 0.004525,
     "end_time": "2022-09-12T11:26:31.901330",
     "exception": false,
     "start_time": "2022-09-12T11:26:31.896805",
     "status": "completed"
    },
    "tags": []
   },
   "source": [
    "# **Importing libraries**"
   ]
  },
  {
   "cell_type": "code",
   "execution_count": 2,
   "id": "0686f4cd",
   "metadata": {
    "execution": {
     "iopub.execute_input": "2022-09-12T11:26:31.913737Z",
     "iopub.status.busy": "2022-09-12T11:26:31.913048Z",
     "iopub.status.idle": "2022-09-12T11:26:33.671588Z",
     "shell.execute_reply": "2022-09-12T11:26:33.669548Z"
    },
    "papermill": {
     "duration": 1.768347,
     "end_time": "2022-09-12T11:26:33.674631",
     "exception": false,
     "start_time": "2022-09-12T11:26:31.906284",
     "status": "completed"
    },
    "tags": []
   },
   "outputs": [],
   "source": [
    "import numpy as np\n",
    "import pandas as pd\n",
    "import matplotlib.pyplot as plt\n",
    "import seaborn as sns\n",
    "from sklearn.model_selection import train_test_split, cross_val_score\n",
    "from sklearn.preprocessing import OneHotEncoder, StandardScaler\n",
    "from sklearn.metrics import accuracy_score, confusion_matrix\n",
    "from sklearn.impute import SimpleImputer\n",
    "from sklearn.linear_model import LogisticRegression"
   ]
  },
  {
   "cell_type": "markdown",
   "id": "c769b08b",
   "metadata": {
    "papermill": {
     "duration": 0.005282,
     "end_time": "2022-09-12T11:26:33.685888",
     "exception": false,
     "start_time": "2022-09-12T11:26:33.680606",
     "status": "completed"
    },
    "tags": []
   },
   "source": [
    "# **Importing the data**"
   ]
  },
  {
   "cell_type": "code",
   "execution_count": 3,
   "id": "d24f89ed",
   "metadata": {
    "execution": {
     "iopub.execute_input": "2022-09-12T11:26:33.700853Z",
     "iopub.status.busy": "2022-09-12T11:26:33.700103Z",
     "iopub.status.idle": "2022-09-12T11:26:33.721377Z",
     "shell.execute_reply": "2022-09-12T11:26:33.720221Z"
    },
    "papermill": {
     "duration": 0.031655,
     "end_time": "2022-09-12T11:26:33.724236",
     "exception": false,
     "start_time": "2022-09-12T11:26:33.692581",
     "status": "completed"
    },
    "tags": []
   },
   "outputs": [],
   "source": [
    "df = pd.read_csv('../input/dengue-cases-in-the-philippines/ph_dengue_cases2016-2020.csv')"
   ]
  },
  {
   "cell_type": "code",
   "execution_count": 4,
   "id": "096aab02",
   "metadata": {
    "execution": {
     "iopub.execute_input": "2022-09-12T11:26:33.738089Z",
     "iopub.status.busy": "2022-09-12T11:26:33.737194Z",
     "iopub.status.idle": "2022-09-12T11:26:33.772588Z",
     "shell.execute_reply": "2022-09-12T11:26:33.771285Z"
    },
    "papermill": {
     "duration": 0.047937,
     "end_time": "2022-09-12T11:26:33.777165",
     "exception": false,
     "start_time": "2022-09-12T11:26:33.729228",
     "status": "completed"
    },
    "tags": []
   },
   "outputs": [
    {
     "data": {
      "text/html": [
       "<div>\n",
       "<style scoped>\n",
       "    .dataframe tbody tr th:only-of-type {\n",
       "        vertical-align: middle;\n",
       "    }\n",
       "\n",
       "    .dataframe tbody tr th {\n",
       "        vertical-align: top;\n",
       "    }\n",
       "\n",
       "    .dataframe thead th {\n",
       "        text-align: right;\n",
       "    }\n",
       "</style>\n",
       "<table border=\"1\" class=\"dataframe\">\n",
       "  <thead>\n",
       "    <tr style=\"text-align: right;\">\n",
       "      <th></th>\n",
       "      <th>Month</th>\n",
       "      <th>Year</th>\n",
       "      <th>Region</th>\n",
       "      <th>Dengue_Cases</th>\n",
       "      <th>Dengue_Deaths</th>\n",
       "    </tr>\n",
       "  </thead>\n",
       "  <tbody>\n",
       "    <tr>\n",
       "      <th>0</th>\n",
       "      <td>January</td>\n",
       "      <td>2016</td>\n",
       "      <td>Region I</td>\n",
       "      <td>705</td>\n",
       "      <td>1</td>\n",
       "    </tr>\n",
       "    <tr>\n",
       "      <th>1</th>\n",
       "      <td>February</td>\n",
       "      <td>2016</td>\n",
       "      <td>Region I</td>\n",
       "      <td>374</td>\n",
       "      <td>0</td>\n",
       "    </tr>\n",
       "    <tr>\n",
       "      <th>2</th>\n",
       "      <td>March</td>\n",
       "      <td>2016</td>\n",
       "      <td>Region I</td>\n",
       "      <td>276</td>\n",
       "      <td>0</td>\n",
       "    </tr>\n",
       "    <tr>\n",
       "      <th>3</th>\n",
       "      <td>April</td>\n",
       "      <td>2016</td>\n",
       "      <td>Region I</td>\n",
       "      <td>240</td>\n",
       "      <td>2</td>\n",
       "    </tr>\n",
       "    <tr>\n",
       "      <th>4</th>\n",
       "      <td>May</td>\n",
       "      <td>2016</td>\n",
       "      <td>Region I</td>\n",
       "      <td>243</td>\n",
       "      <td>1</td>\n",
       "    </tr>\n",
       "    <tr>\n",
       "      <th>...</th>\n",
       "      <td>...</td>\n",
       "      <td>...</td>\n",
       "      <td>...</td>\n",
       "      <td>...</td>\n",
       "      <td>...</td>\n",
       "    </tr>\n",
       "    <tr>\n",
       "      <th>1015</th>\n",
       "      <td>August</td>\n",
       "      <td>2020</td>\n",
       "      <td>BARMM</td>\n",
       "      <td>91</td>\n",
       "      <td>0</td>\n",
       "    </tr>\n",
       "    <tr>\n",
       "      <th>1016</th>\n",
       "      <td>September</td>\n",
       "      <td>2020</td>\n",
       "      <td>BARMM</td>\n",
       "      <td>16</td>\n",
       "      <td>8</td>\n",
       "    </tr>\n",
       "    <tr>\n",
       "      <th>1017</th>\n",
       "      <td>October</td>\n",
       "      <td>2020</td>\n",
       "      <td>BARMM</td>\n",
       "      <td>13</td>\n",
       "      <td>9</td>\n",
       "    </tr>\n",
       "    <tr>\n",
       "      <th>1018</th>\n",
       "      <td>November</td>\n",
       "      <td>2020</td>\n",
       "      <td>BARMM</td>\n",
       "      <td>15</td>\n",
       "      <td>1</td>\n",
       "    </tr>\n",
       "    <tr>\n",
       "      <th>1019</th>\n",
       "      <td>December</td>\n",
       "      <td>2020</td>\n",
       "      <td>BARMM</td>\n",
       "      <td>23</td>\n",
       "      <td>0</td>\n",
       "    </tr>\n",
       "  </tbody>\n",
       "</table>\n",
       "<p>1020 rows × 5 columns</p>\n",
       "</div>"
      ],
      "text/plain": [
       "          Month  Year    Region  Dengue_Cases  Dengue_Deaths\n",
       "0       January  2016  Region I           705              1\n",
       "1      February  2016  Region I           374              0\n",
       "2         March  2016  Region I           276              0\n",
       "3         April  2016  Region I           240              2\n",
       "4           May  2016  Region I           243              1\n",
       "...         ...   ...       ...           ...            ...\n",
       "1015     August  2020     BARMM            91              0\n",
       "1016  September  2020     BARMM            16              8\n",
       "1017    October  2020     BARMM            13              9\n",
       "1018   November  2020     BARMM            15              1\n",
       "1019   December  2020     BARMM            23              0\n",
       "\n",
       "[1020 rows x 5 columns]"
      ]
     },
     "execution_count": 4,
     "metadata": {},
     "output_type": "execute_result"
    }
   ],
   "source": [
    "df"
   ]
  },
  {
   "cell_type": "code",
   "execution_count": 5,
   "id": "b8148854",
   "metadata": {
    "execution": {
     "iopub.execute_input": "2022-09-12T11:26:33.790614Z",
     "iopub.status.busy": "2022-09-12T11:26:33.789623Z",
     "iopub.status.idle": "2022-09-12T11:26:33.825480Z",
     "shell.execute_reply": "2022-09-12T11:26:33.824050Z"
    },
    "papermill": {
     "duration": 0.045852,
     "end_time": "2022-09-12T11:26:33.828761",
     "exception": false,
     "start_time": "2022-09-12T11:26:33.782909",
     "status": "completed"
    },
    "tags": []
   },
   "outputs": [
    {
     "data": {
      "text/html": [
       "<div>\n",
       "<style scoped>\n",
       "    .dataframe tbody tr th:only-of-type {\n",
       "        vertical-align: middle;\n",
       "    }\n",
       "\n",
       "    .dataframe tbody tr th {\n",
       "        vertical-align: top;\n",
       "    }\n",
       "\n",
       "    .dataframe thead th {\n",
       "        text-align: right;\n",
       "    }\n",
       "</style>\n",
       "<table border=\"1\" class=\"dataframe\">\n",
       "  <thead>\n",
       "    <tr style=\"text-align: right;\">\n",
       "      <th></th>\n",
       "      <th>Year</th>\n",
       "      <th>Dengue_Cases</th>\n",
       "      <th>Dengue_Deaths</th>\n",
       "    </tr>\n",
       "  </thead>\n",
       "  <tbody>\n",
       "    <tr>\n",
       "      <th>count</th>\n",
       "      <td>1020.000000</td>\n",
       "      <td>1020.000000</td>\n",
       "      <td>1020.000000</td>\n",
       "    </tr>\n",
       "    <tr>\n",
       "      <th>mean</th>\n",
       "      <td>2018.000000</td>\n",
       "      <td>1124.926471</td>\n",
       "      <td>16.513725</td>\n",
       "    </tr>\n",
       "    <tr>\n",
       "      <th>std</th>\n",
       "      <td>1.414907</td>\n",
       "      <td>1662.608878</td>\n",
       "      <td>96.358215</td>\n",
       "    </tr>\n",
       "    <tr>\n",
       "      <th>min</th>\n",
       "      <td>2016.000000</td>\n",
       "      <td>10.000000</td>\n",
       "      <td>0.000000</td>\n",
       "    </tr>\n",
       "    <tr>\n",
       "      <th>25%</th>\n",
       "      <td>2017.000000</td>\n",
       "      <td>247.750000</td>\n",
       "      <td>1.000000</td>\n",
       "    </tr>\n",
       "    <tr>\n",
       "      <th>50%</th>\n",
       "      <td>2018.000000</td>\n",
       "      <td>582.500000</td>\n",
       "      <td>3.000000</td>\n",
       "    </tr>\n",
       "    <tr>\n",
       "      <th>75%</th>\n",
       "      <td>2019.000000</td>\n",
       "      <td>1284.250000</td>\n",
       "      <td>7.000000</td>\n",
       "    </tr>\n",
       "    <tr>\n",
       "      <th>max</th>\n",
       "      <td>2020.000000</td>\n",
       "      <td>21658.000000</td>\n",
       "      <td>1651.000000</td>\n",
       "    </tr>\n",
       "  </tbody>\n",
       "</table>\n",
       "</div>"
      ],
      "text/plain": [
       "              Year  Dengue_Cases  Dengue_Deaths\n",
       "count  1020.000000   1020.000000    1020.000000\n",
       "mean   2018.000000   1124.926471      16.513725\n",
       "std       1.414907   1662.608878      96.358215\n",
       "min    2016.000000     10.000000       0.000000\n",
       "25%    2017.000000    247.750000       1.000000\n",
       "50%    2018.000000    582.500000       3.000000\n",
       "75%    2019.000000   1284.250000       7.000000\n",
       "max    2020.000000  21658.000000    1651.000000"
      ]
     },
     "execution_count": 5,
     "metadata": {},
     "output_type": "execute_result"
    }
   ],
   "source": [
    "df.describe()"
   ]
  },
  {
   "cell_type": "code",
   "execution_count": 6,
   "id": "e52ce4d3",
   "metadata": {
    "execution": {
     "iopub.execute_input": "2022-09-12T11:26:33.841633Z",
     "iopub.status.busy": "2022-09-12T11:26:33.841196Z",
     "iopub.status.idle": "2022-09-12T11:26:33.861799Z",
     "shell.execute_reply": "2022-09-12T11:26:33.860224Z"
    },
    "papermill": {
     "duration": 0.03021,
     "end_time": "2022-09-12T11:26:33.864664",
     "exception": false,
     "start_time": "2022-09-12T11:26:33.834454",
     "status": "completed"
    },
    "tags": []
   },
   "outputs": [
    {
     "name": "stdout",
     "output_type": "stream",
     "text": [
      "<class 'pandas.core.frame.DataFrame'>\n",
      "RangeIndex: 1020 entries, 0 to 1019\n",
      "Data columns (total 5 columns):\n",
      " #   Column         Non-Null Count  Dtype \n",
      "---  ------         --------------  ----- \n",
      " 0   Month          1020 non-null   object\n",
      " 1   Year           1020 non-null   int64 \n",
      " 2   Region         1020 non-null   object\n",
      " 3   Dengue_Cases   1020 non-null   int64 \n",
      " 4   Dengue_Deaths  1020 non-null   int64 \n",
      "dtypes: int64(3), object(2)\n",
      "memory usage: 40.0+ KB\n"
     ]
    }
   ],
   "source": [
    "df.info()"
   ]
  },
  {
   "cell_type": "code",
   "execution_count": 7,
   "id": "a55c86c4",
   "metadata": {
    "execution": {
     "iopub.execute_input": "2022-09-12T11:26:33.878888Z",
     "iopub.status.busy": "2022-09-12T11:26:33.878442Z",
     "iopub.status.idle": "2022-09-12T11:26:33.890320Z",
     "shell.execute_reply": "2022-09-12T11:26:33.889191Z"
    },
    "papermill": {
     "duration": 0.022771,
     "end_time": "2022-09-12T11:26:33.893725",
     "exception": false,
     "start_time": "2022-09-12T11:26:33.870954",
     "status": "completed"
    },
    "tags": []
   },
   "outputs": [
    {
     "data": {
      "text/plain": [
       "Month            0\n",
       "Year             0\n",
       "Region           0\n",
       "Dengue_Cases     0\n",
       "Dengue_Deaths    0\n",
       "dtype: int64"
      ]
     },
     "execution_count": 7,
     "metadata": {},
     "output_type": "execute_result"
    }
   ],
   "source": [
    "df.isna().sum()"
   ]
  },
  {
   "cell_type": "markdown",
   "id": "08113e61",
   "metadata": {
    "papermill": {
     "duration": 0.005865,
     "end_time": "2022-09-12T11:26:33.906290",
     "exception": false,
     "start_time": "2022-09-12T11:26:33.900425",
     "status": "completed"
    },
    "tags": []
   },
   "source": [
    "**obviously, the data is clean already, with no missing values, and no data preprocessing is needed so far \"of course, if we need to apply an ML model we will need some processing to this data ;)\"!So let's head to the analysis part.**"
   ]
  },
  {
   "cell_type": "markdown",
   "id": "cc015a89",
   "metadata": {
    "papermill": {
     "duration": 0.005328,
     "end_time": "2022-09-12T11:26:33.917449",
     "exception": false,
     "start_time": "2022-09-12T11:26:33.912121",
     "status": "completed"
    },
    "tags": []
   },
   "source": [
    "# **Analysis and EDA**"
   ]
  },
  {
   "cell_type": "code",
   "execution_count": 8,
   "id": "1fa8223d",
   "metadata": {
    "execution": {
     "iopub.execute_input": "2022-09-12T11:26:33.931152Z",
     "iopub.status.busy": "2022-09-12T11:26:33.930689Z",
     "iopub.status.idle": "2022-09-12T11:26:33.939945Z",
     "shell.execute_reply": "2022-09-12T11:26:33.938712Z"
    },
    "papermill": {
     "duration": 0.019549,
     "end_time": "2022-09-12T11:26:33.942975",
     "exception": false,
     "start_time": "2022-09-12T11:26:33.923426",
     "status": "completed"
    },
    "tags": []
   },
   "outputs": [
    {
     "data": {
      "text/plain": [
       "array(['BARMM', 'CAR', 'NCR', 'Region I', 'Region II', 'Region III',\n",
       "       'Region IV-A', 'Region IV-B', 'Region IX', 'Region V', 'Region VI',\n",
       "       'Region VII', 'Region VIII', 'Region X', 'Region XI', 'Region XII',\n",
       "       'Region XIII'], dtype=object)"
      ]
     },
     "execution_count": 8,
     "metadata": {},
     "output_type": "execute_result"
    }
   ],
   "source": [
    "#just checking for the region column in the dataset\n",
    "np.unique(df['Region'])"
   ]
  },
  {
   "cell_type": "code",
   "execution_count": 9,
   "id": "3ed29a5b",
   "metadata": {
    "execution": {
     "iopub.execute_input": "2022-09-12T11:26:33.957203Z",
     "iopub.status.busy": "2022-09-12T11:26:33.956764Z",
     "iopub.status.idle": "2022-09-12T11:26:33.974917Z",
     "shell.execute_reply": "2022-09-12T11:26:33.971955Z"
    },
    "papermill": {
     "duration": 0.029148,
     "end_time": "2022-09-12T11:26:33.978231",
     "exception": false,
     "start_time": "2022-09-12T11:26:33.949083",
     "status": "completed"
    },
    "tags": []
   },
   "outputs": [
    {
     "data": {
      "text/html": [
       "<div>\n",
       "<style scoped>\n",
       "    .dataframe tbody tr th:only-of-type {\n",
       "        vertical-align: middle;\n",
       "    }\n",
       "\n",
       "    .dataframe tbody tr th {\n",
       "        vertical-align: top;\n",
       "    }\n",
       "\n",
       "    .dataframe thead th {\n",
       "        text-align: right;\n",
       "    }\n",
       "</style>\n",
       "<table border=\"1\" class=\"dataframe\">\n",
       "  <thead>\n",
       "    <tr style=\"text-align: right;\">\n",
       "      <th></th>\n",
       "      <th>Year</th>\n",
       "      <th>Dengue_Cases</th>\n",
       "      <th>Dengue_Deaths</th>\n",
       "    </tr>\n",
       "  </thead>\n",
       "  <tbody>\n",
       "    <tr>\n",
       "      <th>Year</th>\n",
       "      <td>1.000000</td>\n",
       "      <td>0.021167</td>\n",
       "      <td>-0.120163</td>\n",
       "    </tr>\n",
       "    <tr>\n",
       "      <th>Dengue_Cases</th>\n",
       "      <td>0.021167</td>\n",
       "      <td>1.000000</td>\n",
       "      <td>0.038322</td>\n",
       "    </tr>\n",
       "    <tr>\n",
       "      <th>Dengue_Deaths</th>\n",
       "      <td>-0.120163</td>\n",
       "      <td>0.038322</td>\n",
       "      <td>1.000000</td>\n",
       "    </tr>\n",
       "  </tbody>\n",
       "</table>\n",
       "</div>"
      ],
      "text/plain": [
       "                   Year  Dengue_Cases  Dengue_Deaths\n",
       "Year           1.000000      0.021167      -0.120163\n",
       "Dengue_Cases   0.021167      1.000000       0.038322\n",
       "Dengue_Deaths -0.120163      0.038322       1.000000"
      ]
     },
     "execution_count": 9,
     "metadata": {},
     "output_type": "execute_result"
    }
   ],
   "source": [
    "corelation = df.corr()\n",
    "corelation"
   ]
  },
  {
   "cell_type": "code",
   "execution_count": 10,
   "id": "868f9b88",
   "metadata": {
    "execution": {
     "iopub.execute_input": "2022-09-12T11:26:33.992821Z",
     "iopub.status.busy": "2022-09-12T11:26:33.992338Z",
     "iopub.status.idle": "2022-09-12T11:26:34.347896Z",
     "shell.execute_reply": "2022-09-12T11:26:34.345912Z"
    },
    "papermill": {
     "duration": 0.366498,
     "end_time": "2022-09-12T11:26:34.350900",
     "exception": false,
     "start_time": "2022-09-12T11:26:33.984402",
     "status": "completed"
    },
    "tags": []
   },
   "outputs": [
    {
     "data": {
      "text/plain": [
       "<AxesSubplot:>"
      ]
     },
     "execution_count": 10,
     "metadata": {},
     "output_type": "execute_result"
    },
    {
     "data": {
      "image/png": "[encoded data removed]",
      "text/plain": [
       "<Figure size 432x288 with 2 Axes>"
      ]
     },
     "metadata": {
      "needs_background": "light"
     },
     "output_type": "display_data"
    }
   ],
   "source": [
    "sns.heatmap(corelation, xticklabels=corelation.columns, yticklabels=corelation.columns, annot=True)"
   ]
  },
  {
   "cell_type": "code",
   "execution_count": 11,
   "id": "5c5766e9",
   "metadata": {
    "execution": {
     "iopub.execute_input": "2022-09-12T11:26:34.365952Z",
     "iopub.status.busy": "2022-09-12T11:26:34.365477Z",
     "iopub.status.idle": "2022-09-12T11:26:39.852884Z",
     "shell.execute_reply": "2022-09-12T11:26:39.851185Z"
    },
    "papermill": {
     "duration": 5.49864,
     "end_time": "2022-09-12T11:26:39.856256",
     "exception": false,
     "start_time": "2022-09-12T11:26:34.357616",
     "status": "completed"
    },
    "tags": []
   },
   "outputs": [
    {
     "data": {
      "text/plain": [
       "<seaborn.axisgrid.PairGrid at 0x7f695342c950>"
      ]
     },
     "execution_count": 11,
     "metadata": {},
     "output_type": "execute_result"
    },
    {
     "data": {
      "image/png": "[encoded data removed]",
      "text/plain": [
       "<Figure size 540x540 with 12 Axes>"
      ]
     },
     "metadata": {
      "needs_background": "light"
     },
     "output_type": "display_data"
    }
   ],
   "source": [
    "sns.pairplot(df)"
   ]
  },
  {
   "cell_type": "markdown",
   "id": "a42f27f2",
   "metadata": {
    "papermill": {
     "duration": 0.00792,
     "end_time": "2022-09-12T11:26:39.872558",
     "exception": false,
     "start_time": "2022-09-12T11:26:39.864638",
     "status": "completed"
    },
    "tags": []
   },
   "source": [
    "**Cases from 2016-2020**"
   ]
  },
  {
   "cell_type": "code",
   "execution_count": 12,
   "id": "dabf6acf",
   "metadata": {
    "execution": {
     "iopub.execute_input": "2022-09-12T11:26:39.889511Z",
     "iopub.status.busy": "2022-09-12T11:26:39.889061Z",
     "iopub.status.idle": "2022-09-12T11:26:42.222495Z",
     "shell.execute_reply": "2022-09-12T11:26:42.220914Z"
    },
    "papermill": {
     "duration": 2.345622,
     "end_time": "2022-09-12T11:26:42.225828",
     "exception": false,
     "start_time": "2022-09-12T11:26:39.880206",
     "status": "completed"
    },
    "tags": []
   },
   "outputs": [
    {
     "data": {
      "image/png": "[encoded data removed]",
      "text/plain": [
       "<Figure size 1008x432 with 1 Axes>"
      ]
     },
     "metadata": {
      "needs_background": "light"
     },
     "output_type": "display_data"
    }
   ],
   "source": [
    "index = 0\n",
    "monthYears = []\n",
    "years = [i for i in df.Year]\n",
    "for i in df.Month:\n",
    "    monthYears.append(str(years[index])+'-'+str(i))\n",
    "    index += 1\n",
    "plt.figure(figsize=(14,6))\n",
    "sns.lineplot(x=monthYears,y=[i for i in df['Dengue_Cases']],color='black')\n",
    "plt.title(label='Dengue fever cases from 2016-2020')\n",
    "plt.xlabel(xlabel='Month')\n",
    "plt.ylabel(ylabel='Cases')\n",
    "plt.xticks(rotation=90)\n",
    "plt.show()"
   ]
  },
  {
   "cell_type": "markdown",
   "id": "afbb9955",
   "metadata": {
    "papermill": {
     "duration": 0.009002,
     "end_time": "2022-09-12T11:26:42.244104",
     "exception": false,
     "start_time": "2022-09-12T11:26:42.235102",
     "status": "completed"
    },
    "tags": []
   },
   "source": [
    "# **Now the data is so obvious**\n",
    "**In case we want to make a predection, you are ready for this!**"
   ]
  }
 ],
 "metadata": {
  "kernelspec": {
   "display_name": "Python 3",
   "language": "python",
   "name": "python3"
  },
  "language_info": {
   "codemirror_mode": {
    "name": "ipython",
    "version": 3
   },
   "file_extension": ".py",
   "mimetype": "text/x-python",
   "name": "python",
   "nbconvert_exporter": "python",
   "pygments_lexer": "ipython3",
   "version": "3.7.12"
  },
  "papermill": {
   "default_parameters": {},
   "duration": 23.054591,
   "end_time": "2022-09-12T11:26:43.279329",
   "environment_variables": {},
   "exception": null,
   "input_path": "__notebook__.ipynb",
   "output_path": "__notebook__.ipynb",
   "parameters": {},
   "start_time": "2022-09-12T11:26:20.224738",
   "version": "2.3.4"
  }
 },
 "nbformat": 4,
 "nbformat_minor": 5
}
